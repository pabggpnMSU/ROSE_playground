{
 "cells": [
  {
   "cell_type": "markdown",
   "metadata": {},
   "source": [
    "# UQ for an Optical Potential using ROSE"
   ]
  },
  {
   "cell_type": "code",
   "execution_count": 4,
   "metadata": {},
   "outputs": [],
   "source": [
    "# (if you don't have it already)\n"
   ]
  },
  {
   "cell_type": "code",
   "execution_count": 10,
   "metadata": {},
   "outputs": [],
   "source": [
    "# pip install nuclear-rose "
   ]
  },
  {
   "cell_type": "code",
   "execution_count": 9,
   "metadata": {},
   "outputs": [],
   "source": [
    "# pip install corner"
   ]
  },
  {
   "cell_type": "code",
   "execution_count": 8,
   "metadata": {},
   "outputs": [],
   "source": [
    "# pip install surmise"
   ]
  },
  {
   "cell_type": "code",
   "execution_count": 11,
   "metadata": {},
   "outputs": [],
   "source": [
    "import rose\n",
    "import numpy as np\n",
    "import time\n",
    "import os\n",
    "from scipy.stats import qmc\n",
    "import matplotlib.pyplot as plt\n",
    "import scipy.stats as sps\n",
    "from tqdm import tqdm\n",
    "import random\n",
    "import datetime\n",
    "import corner\n",
    "import surmise\n",
    "\n",
    "\n",
    "\n"
   ]
  },
  {
   "cell_type": "markdown",
   "metadata": {},
   "source": [
    "### Setting up the Scattering System"
   ]
  },
  {
   "cell_type": "code",
   "execution_count": 12,
   "metadata": {},
   "outputs": [],
   "source": [
    "A = 40  # mass of the target\n",
    "# asymptotic energy and wavenumber in center-of-mass (COM) frame\n",
    "energy = 14  # MeV\n",
    "# how many partial waves should we calculate?\n",
    "l_max = 10\n",
    "l_list = list(range(l_max + 1))\n",
    "# domain of the differential cross section; the observable we want to emulate. We are setting them as equally spaced angles between 1 and 179 but this can be changed\n",
    "angles = np.linspace(1, 179, 179)\n"
   ]
  },
  {
   "cell_type": "markdown",
   "metadata": {},
   "source": [
    "### Next we either provide the experimental data we want to use, or a subset of angles and ROSE will generate mock data on them later"
   ]
  },
  {
   "cell_type": "code",
   "execution_count": 13,
   "metadata": {},
   "outputs": [],
   "source": [
    "flag_provided_data =0  #Leave this as zero if user is only providing the \"x\" locations (the angles)\n",
    "\n",
    "\n",
    "\n",
    "##################################################\n",
    "#If providing data directly:\n",
    "# angles_theta=\n",
    "# anglesX=angles_theta- np.full(len(angles_theta), 1) #Moving the angles location by one because of how python works\n",
    "# y_measured =   #Valueus of the observed cross section\n",
    "# yerr=  #Errors of the observed cross section\n",
    "# flag_provided_data=1    #Mark this as \"1\" if data is provided by user\n",
    "##################################################\n",
    "\n",
    "\n",
    "##################################################\n",
    "#A subset of the angles in which we will deal with data\n",
    "angles_theta=np.arange(20,160,5)\n",
    "anglesX=angles_theta- np.full(len(angles_theta), 1) #Moving the angles location by one because of how python works\n",
    "\n",
    "##################################################"
   ]
  },
  {
   "cell_type": "markdown",
   "metadata": {},
   "source": [
    "### Finally some details and constants"
   ]
  },
  {
   "cell_type": "code",
   "execution_count": 14,
   "metadata": {},
   "outputs": [],
   "source": [
    "\n",
    "\n",
    "AMU = 931.494102  # MeV/c^2, Particle Data Group\n",
    "MASS_N = 1.008665 * AMU  # MeV/c^2 PDG\n",
    "MASS_P = 1.007276 * AMU  # MeV/c^2 PDG\n",
    "MASS_CHARGED_PION = 139.57039  # MeV/c^2\n",
    "B_40CA = 342.0522  # BMEX\n",
    "\n",
    "MASS_40CA = 20 * MASS_P + 20 * MASS_N - B_40CA\n",
    "MU = (\n",
    "    MASS_40CA * MASS_N / (MASS_40CA + MASS_N)\n",
    ")  # reduced mass - we will do calculations in COM frame\n",
    "\n",
    "#Alternatively you could define it as:\n",
    "#MU = (AMU * A / (A+1)  ) \n",
    "\n",
    "\n",
    "k = np.sqrt(2 * MU * energy) / rose.constants.HBARC\n",
    "\n",
    "rho=np.linspace(1e-6, 8*np.pi,2000)\n",
    "s_0=6 * np.pi"
   ]
  },
  {
   "cell_type": "code",
   "execution_count": null,
   "metadata": {},
   "outputs": [],
   "source": []
  },
  {
   "cell_type": "markdown",
   "metadata": {},
   "source": [
    "## Defining the potentials"
   ]
  },
  {
   "cell_type": "code",
   "execution_count": 17,
   "metadata": {},
   "outputs": [],
   "source": [
    "# shape of interaction for volume term\n",
    "def wood_saxon(r, R, a):\n",
    "    return 1 / (1 + np.exp((r - R) / a))\n",
    "\n",
    "\n",
    "# shape of interaction for surface-peaked and spin-orbit coupling terms\n",
    "def wood_saxon_prime(r, R, a):\n",
    "    return -1 / a * np.exp((r - R) / a) / (1 + np.exp((r - R) / a)) ** 2\n",
    "\n",
    "\n",
    "# total potential with a real and central term (with the same geometry)\n",
    "# and imaginary surface-peaked term, but no SO coupling\n",
    "def optical_potential(r, theta):\n",
    "    Vv, Wv, Wd, Vso, Rv, Rd, Rso, av, ad, aso = theta\n",
    "    return (-1j * Wv - Vv) * wood_saxon(r, Rv, av) + (4j * ad * Wd) * wood_saxon_prime(\n",
    "        r, Rd, ad\n",
    "    )\n",
    "\n",
    "\n",
    "# spin orbit interaction constant\n",
    "mso = rose.constants.HBARC / MASS_CHARGED_PION\n",
    "\n",
    "\n",
    "# spin-orbit (SO) coulpling term - a function of l dot s, l being the orbital angular momentum\n",
    "# and s being the spin of the neutron\n",
    "def spin_orbit_potential(r, theta, ldots):\n",
    "    Vv, Wv, Wd, Vso, Rv, Rd, Rso, av, ad, aso = theta\n",
    "    return (Vso) * mso**2 * ldots * wood_saxon_prime(r, Rso, aso) / r\n",
    "\n",
    "\n",
    "# the total number of parameters\n",
    "nparams = 10"
   ]
  },
  {
   "cell_type": "markdown",
   "metadata": {},
   "source": [
    "## Defining the parameters central value and the box around which we will train with the emulator"
   ]
  },
  {
   "cell_type": "code",
   "execution_count": null,
   "metadata": {},
   "outputs": [],
   "source": [
    "# This is the value of the parameters coming from the Koning-Delaroche parametrization.\n",
    "# Taken from https://www-nds.iaea.org/RIPL-3/\n",
    "VvKD = 48.9\n",
    "WvKD = 1.2\n",
    "WdKD = 7.7\n",
    "VsoKD = 5.5\n",
    "\n",
    "\n",
    "RvKD = 1.19* 40 ** (1.0 / 3.0)\n",
    "RdKD = 1.29* 40 ** (1.0 / 3.0)\n",
    "RsoKD = 1.00 * 40 ** (1.0 / 3.0)\n",
    "\n",
    "avKD = 0.67\n",
    "adKD = 0.67\n",
    "asoKD = 0.59\n",
    "\n",
    "alphaKD = np.array(\n",
    "    [VvKD, WvKD, WdKD, VsoKD, RvKD, RdKD, RsoKD, avKD, adKD, asoKD]\n",
    ")\n",
    "\n",
    "\n",
    "\n",
    "#The following are the center of the parameters to train the emulator\n",
    "Vv0 = 45\n",
    "Wv0 = 2\n",
    "Wd0 = 5\n",
    "Vso = 5\n",
    "\n",
    "\n",
    "\n",
    "Rv0 = 4\n",
    "\n",
    "Rd0 = 4\n",
    "Rso = 4\n",
    "\n",
    "av0 = 0.5\n",
    "\n",
    "ad0 = 0.5\n",
    "aso = 0.5\n",
    "\n",
    "\n",
    "#This is the center of our prior and around where we will train our RBM emulator\n",
    "alphaCentral = np.array([Vv0, Wv0, Wd0, Vso, Rv0, Rd0, Rso, av0 , ad0, aso])\n",
    "\n",
    "\n",
    "\n",
    "\n",
    "\n",
    "scaleTraining = 0.3\n",
    "\n",
    "bounds = np.array(\n",
    "    [\n",
    "        alphaCentral - np.fabs(alphaCentral * scaleTraining),\n",
    "        alphaCentral + np.fabs(alphaCentral * scaleTraining),\n",
    "    ]\n",
    ").T\n",
    "\n",
    "\n",
    "def sample_points(npoints, bounds,initial_seed=None):\n",
    "    sampler = qmc.LatinHypercube(d=len(bounds), seed=initial_seed)\n",
    "    sample = sampler.random(npoints)\n",
    "    scaled = qmc.scale(sample, bounds[:, 0], bounds[:, 1])\n",
    "    return scaled"
   ]
  }
 ],
 "metadata": {
  "kernelspec": {
   "display_name": "Python 3",
   "language": "python",
   "name": "python3"
  },
  "language_info": {
   "codemirror_mode": {
    "name": "ipython",
    "version": 3
   },
   "file_extension": ".py",
   "mimetype": "text/x-python",
   "name": "python",
   "nbconvert_exporter": "python",
   "pygments_lexer": "ipython3",
   "version": "3.10.13"
  }
 },
 "nbformat": 4,
 "nbformat_minor": 2
}
